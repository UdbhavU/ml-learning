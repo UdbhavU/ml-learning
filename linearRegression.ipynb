{
 "cells": [
  {
   "cell_type": "code",
   "execution_count": 13,
   "metadata": {},
   "outputs": [],
   "source": [
    "import numpy as np\n",
    "import pandas as pd\n",
    "\n",
    "\n"
   ]
  },
  {
   "cell_type": "code",
   "execution_count": 17,
   "metadata": {},
   "outputs": [],
   "source": [
    "data = pd.read_csv(\"/home/udbhav/ml/student/student-mat.csv\",sep=\";\")"
   ]
  },
  {
   "cell_type": "code",
   "execution_count": 22,
   "metadata": {},
   "outputs": [
    {
     "data": {
      "text/html": [
       "<div>\n",
       "<style scoped>\n",
       "    .dataframe tbody tr th:only-of-type {\n",
       "        vertical-align: middle;\n",
       "    }\n",
       "\n",
       "    .dataframe tbody tr th {\n",
       "        vertical-align: top;\n",
       "    }\n",
       "\n",
       "    .dataframe thead th {\n",
       "        text-align: right;\n",
       "    }\n",
       "</style>\n",
       "<table border=\"1\" class=\"dataframe\">\n",
       "  <thead>\n",
       "    <tr style=\"text-align: right;\">\n",
       "      <th></th>\n",
       "      <th>G1</th>\n",
       "      <th>G2</th>\n",
       "      <th>G3</th>\n",
       "      <th>studytime</th>\n",
       "      <th>failures</th>\n",
       "      <th>absences</th>\n",
       "    </tr>\n",
       "  </thead>\n",
       "  <tbody>\n",
       "    <tr>\n",
       "      <th>0</th>\n",
       "      <td>5</td>\n",
       "      <td>6</td>\n",
       "      <td>6</td>\n",
       "      <td>2</td>\n",
       "      <td>0</td>\n",
       "      <td>6</td>\n",
       "    </tr>\n",
       "    <tr>\n",
       "      <th>1</th>\n",
       "      <td>5</td>\n",
       "      <td>5</td>\n",
       "      <td>6</td>\n",
       "      <td>2</td>\n",
       "      <td>0</td>\n",
       "      <td>4</td>\n",
       "    </tr>\n",
       "    <tr>\n",
       "      <th>2</th>\n",
       "      <td>7</td>\n",
       "      <td>8</td>\n",
       "      <td>10</td>\n",
       "      <td>2</td>\n",
       "      <td>3</td>\n",
       "      <td>10</td>\n",
       "    </tr>\n",
       "    <tr>\n",
       "      <th>3</th>\n",
       "      <td>15</td>\n",
       "      <td>14</td>\n",
       "      <td>15</td>\n",
       "      <td>3</td>\n",
       "      <td>0</td>\n",
       "      <td>2</td>\n",
       "    </tr>\n",
       "    <tr>\n",
       "      <th>4</th>\n",
       "      <td>6</td>\n",
       "      <td>10</td>\n",
       "      <td>10</td>\n",
       "      <td>2</td>\n",
       "      <td>0</td>\n",
       "      <td>4</td>\n",
       "    </tr>\n",
       "  </tbody>\n",
       "</table>\n",
       "</div>"
      ],
      "text/plain": [
       "   G1  G2  G3  studytime  failures  absences\n",
       "0   5   6   6          2         0         6\n",
       "1   5   5   6          2         0         4\n",
       "2   7   8  10          2         3        10\n",
       "3  15  14  15          3         0         2\n",
       "4   6  10  10          2         0         4"
      ]
     },
     "execution_count": 22,
     "metadata": {},
     "output_type": "execute_result"
    }
   ],
   "source": [
    "data = data[[\"G1\",\"G2\",\"G3\",\"studytime\",\"failures\",\"absences\"]]\n",
    "predict = \"G3\"\n",
    "data.head()\n"
   ]
  },
  {
   "cell_type": "code",
   "execution_count": 23,
   "metadata": {},
   "outputs": [],
   "source": [
    "import sklearn\n",
    "from sklearn import linear_model\n",
    "from sklearn.utils import shuffle"
   ]
  },
  {
   "cell_type": "code",
   "execution_count": 25,
   "metadata": {},
   "outputs": [],
   "source": [
    "#Create the data set x is the input and y is the data to be predicted\n",
    "x  = np.array(data.drop([predict],1))\n",
    "y = np.array(data[predict])"
   ]
  },
  {
   "cell_type": "code",
   "execution_count": 31,
   "metadata": {},
   "outputs": [],
   "source": [
    "#to create the model you need training data set and test dataset to verify the trained model\n",
    "x_train, x_test, y_train, y_test = sklearn.model_selection.train_test_split(x, y, test_size=0.1)"
   ]
  },
  {
   "cell_type": "code",
   "execution_count": 32,
   "metadata": {},
   "outputs": [],
   "source": [
    "#the ollowing code is used to create a model based on linear regression algorithm\n",
    "linear = linear_model.LinearRegression()"
   ]
  },
  {
   "cell_type": "code",
   "execution_count": 33,
   "metadata": {},
   "outputs": [
    {
     "data": {
      "text/plain": [
       "LinearRegression()"
      ]
     },
     "execution_count": 33,
     "metadata": {},
     "output_type": "execute_result"
    }
   ],
   "source": [
    "#the following code trains the model\n",
    "linear.fit(x_train,y_train)"
   ]
  },
  {
   "cell_type": "code",
   "execution_count": 34,
   "metadata": {},
   "outputs": [],
   "source": [
    "#score is how you verify the model for accuracy [-1 - 0 - 1]\n",
    "acc =  linear.score(x_test,y_test)"
   ]
  },
  {
   "cell_type": "code",
   "execution_count": 35,
   "metadata": {},
   "outputs": [
    {
     "data": {
      "text/plain": [
       "0.9090500599408959"
      ]
     },
     "execution_count": 35,
     "metadata": {},
     "output_type": "execute_result"
    }
   ],
   "source": [
    "acc"
   ]
  },
  {
   "cell_type": "code",
   "execution_count": 36,
   "metadata": {},
   "outputs": [
    {
     "name": "stdout",
     "output_type": "stream",
     "text": [
      "CO \n",
      " [ 0.15276351  0.9845318  -0.22029221 -0.35957273  0.04626459]\n"
     ]
    }
   ],
   "source": [
    "\n",
    "print(\"CO \\n\",linear.coef_)"
   ]
  },
  {
   "cell_type": "code",
   "execution_count": 37,
   "metadata": {},
   "outputs": [
    {
     "name": "stdout",
     "output_type": "stream",
     "text": [
      "intercept \n",
      " -1.5513001228890957\n"
     ]
    }
   ],
   "source": [
    "print(\"intercept \\n\",linear.intercept_)"
   ]
  },
  {
   "cell_type": "code",
   "execution_count": 38,
   "metadata": {},
   "outputs": [],
   "source": [
    "#to use the model to predict fresh or real world data use predict() and pass the required data\n",
    "pr = linear.predict(x_test)"
   ]
  },
  {
   "cell_type": "code",
   "execution_count": 39,
   "metadata": {},
   "outputs": [
    {
     "name": "stdout",
     "output_type": "stream",
     "text": [
      "[ 4.51079809 10.49760732 14.24307123 14.91478165  4.95671135 13.09554254\n",
      "  5.07375424  5.1217874  15.77842275  9.1607764  -1.07530344  8.3965368\n",
      " 12.88647799 20.14690098  8.21859662 -0.85501124  9.69388998  9.26059992\n",
      " 19.45050066 11.86638079  9.29583378  3.72916294  8.33630246  7.5088895\n",
      " 13.53612695 11.81571709 19.36120036  6.67840302 13.93024986  8.71470777\n",
      " 11.54137918  8.27606812 12.89651444  7.9343337  11.89365757 12.32443062\n",
      " 11.79818937 13.96983903 12.25709885 12.64019103]\n"
     ]
    }
   ],
   "source": [
    "print(pr)"
   ]
  },
  {
   "cell_type": "code",
   "execution_count": 42,
   "metadata": {},
   "outputs": [
    {
     "name": "stdout",
     "output_type": "stream",
     "text": [
      "4.51079808727598   [8 6 2 2 2]   5\n",
      "10.497607317010244   [13 10  2  1 22]   11\n",
      "14.243071233400245   [14 14  1  0  2]   13\n",
      "14.914781653832154   [14 15  2  0  0]   15\n",
      "4.956711351481633   [5 6 2 0 6]   6\n",
      "13.09554254325532   [14 13  3  0  8]   14\n",
      "5.073754240223422   [ 6  6  2  1 13]   8\n",
      "5.121787398947513   [7 7 2 3 5]   7\n",
      "15.778422749575377   [17 15  1  0  4]   16\n",
      "9.160776396167678   [10 10  3  0  0]   9\n",
      "-1.075303444032709   [6 0 2 0 0]   0\n",
      "8.39653680278386   [10  9  2  0  0]   9\n",
      "12.886477987582944   [14 12  2  0 20]   13\n",
      "20.146900977666736   [18 19  1  0 10]   19\n",
      "8.218596622109587   [ 9  9  2  2 15]   9\n",
      "-0.8550112388271004   [6 0 1 0 0]   0\n",
      "9.693889979530804   [10 10  1  0  2]   10\n",
      "9.260599917521233   [ 8 10  2  0  4]   9\n",
      "19.450500658272837   [18 18  1  1 24]   18\n",
      "11.86638078848037   [10  9  2  0 75]   9\n",
      "9.295833776823029   [ 8 10  1  0  0]   11\n",
      "3.729162943331823   [ 6  5  1  3 16]   5\n",
      "8.336302460857834   [9 9 2 0 2]   10\n",
      "7.508889497272074   [ 7  8  2  0 12]   8\n",
      "13.536126953666537   [14 13  1  0  8]   13\n",
      "11.81571709158759   [11 12  1  0  2]   11\n",
      "19.36120035807212   [19 19  4  0  4]   20\n",
      "6.678403018974368   [9 8 1 3 6]   10\n",
      "13.930249855242726   [14 14  2  0  0]   14\n",
      "8.71470777392278   [ 8  8  1  0 30]   8\n",
      "11.541379184670026   [13 12  2  1  2]   12\n",
      "8.276068118931807   [8 9 2 0 4]   10\n",
      "12.896514441901434   [13 13  3  0  7]   14\n",
      "7.9343336962054405   [ 6  9  1  2 14]   8\n",
      "11.893657567736202   [15 12  3  0  0]   14\n",
      "12.324430620464003   [11 13  4  0  6]   14\n",
      "11.798189366508378   [14 12  4  0  6]   13\n",
      "13.969839034670256   [11 14  1  0  6]   14\n",
      "12.257098852495401   [12 12  2  0 13]   13\n",
      "12.640191026897433   [12 13  2  0  0]   14\n"
     ]
    }
   ],
   "source": [
    "for i in range(len(pr)):\n",
    "    print(pr[i],\" \",x_test[i],\" \",y_test[i])"
   ]
  },
  {
   "cell_type": "code",
   "execution_count": 46,
   "metadata": {},
   "outputs": [],
   "source": [
    "import pickle\n",
    "#saving the trained model using pickle.dump\n",
    "with open(\"studentmodel.pickle\",\"wb\") as f:\n",
    "    pickle.dump(linear, f)\n",
    "#using pickled model\n",
    "#pickled_model = open(\"studentmodel.pickle\" , \"rb\")\n",
    "#model = pickle.load(pickled_model)"
   ]
  },
  {
   "cell_type": "code",
   "execution_count": 57,
   "metadata": {},
   "outputs": [
    {
     "data": {
      "image/png": "[encoded data removed]",
      "text/plain": [
       "<Figure size 432x288 with 1 Axes>"
      ]
     },
     "metadata": {},
     "output_type": "display_data"
    }
   ],
   "source": [
    "import matplotlib.pyplot as plt\n",
    "from matplotlib import style\n",
    "style.use(\"ggplot\")\n",
    "plt.scatter(data[\"G2\"],data[\"G3\"])\n",
    "plt.xlabel(\"1st\")\n",
    "plt.ylabel(\"final\")\n",
    "plt.show()"
   ]
  },
  {
   "cell_type": "code",
   "execution_count": null,
   "metadata": {},
   "outputs": [],
   "source": []
  },
  {
   "cell_type": "code",
   "execution_count": null,
   "metadata": {},
   "outputs": [],
   "source": []
  }
 ],
 "metadata": {
  "kernelspec": {
   "display_name": "Python 3",
   "language": "python",
   "name": "python3"
  },
  "language_info": {
   "codemirror_mode": {
    "name": "ipython",
    "version": 3
   },
   "file_extension": ".py",
   "mimetype": "text/x-python",
   "name": "python",
   "nbconvert_exporter": "python",
   "pygments_lexer": "ipython3",
   "version": "3.8.5"
  }
 },
 "nbformat": 4,
 "nbformat_minor": 4
}
