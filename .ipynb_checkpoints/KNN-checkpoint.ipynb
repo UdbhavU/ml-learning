{
 "cells": [
  {
   "cell_type": "code",
   "execution_count": 2,
   "metadata": {},
   "outputs": [],
   "source": [
    "#using KNN\n",
    "import pandas as pd\n",
    "import numpy as np\n",
    "import sklearn\n",
    "from sklearn.utils import shuffle\n",
    "from sklearn.neighbors import KNeighborsClassifier\n",
    "from sklearn import linear_model, preprocessing\n"
   ]
  },
  {
   "cell_type": "code",
   "execution_count": 4,
   "metadata": {},
   "outputs": [
    {
     "data": {
      "text/html": [
       "<div>\n",
       "<style scoped>\n",
       "    .dataframe tbody tr th:only-of-type {\n",
       "        vertical-align: middle;\n",
       "    }\n",
       "\n",
       "    .dataframe tbody tr th {\n",
       "        vertical-align: top;\n",
       "    }\n",
       "\n",
       "    .dataframe thead th {\n",
       "        text-align: right;\n",
       "    }\n",
       "</style>\n",
       "<table border=\"1\" class=\"dataframe\">\n",
       "  <thead>\n",
       "    <tr style=\"text-align: right;\">\n",
       "      <th></th>\n",
       "      <th>buying</th>\n",
       "      <th>maint</th>\n",
       "      <th>doors</th>\n",
       "      <th>persons</th>\n",
       "      <th>lug_boot</th>\n",
       "      <th>safety</th>\n",
       "      <th>class</th>\n",
       "    </tr>\n",
       "  </thead>\n",
       "  <tbody>\n",
       "    <tr>\n",
       "      <th>0</th>\n",
       "      <td>vhigh</td>\n",
       "      <td>vhigh</td>\n",
       "      <td>2</td>\n",
       "      <td>2</td>\n",
       "      <td>small</td>\n",
       "      <td>low</td>\n",
       "      <td>unacc</td>\n",
       "    </tr>\n",
       "    <tr>\n",
       "      <th>1</th>\n",
       "      <td>vhigh</td>\n",
       "      <td>vhigh</td>\n",
       "      <td>2</td>\n",
       "      <td>2</td>\n",
       "      <td>small</td>\n",
       "      <td>med</td>\n",
       "      <td>unacc</td>\n",
       "    </tr>\n",
       "    <tr>\n",
       "      <th>2</th>\n",
       "      <td>vhigh</td>\n",
       "      <td>vhigh</td>\n",
       "      <td>2</td>\n",
       "      <td>2</td>\n",
       "      <td>small</td>\n",
       "      <td>high</td>\n",
       "      <td>unacc</td>\n",
       "    </tr>\n",
       "    <tr>\n",
       "      <th>3</th>\n",
       "      <td>vhigh</td>\n",
       "      <td>vhigh</td>\n",
       "      <td>2</td>\n",
       "      <td>2</td>\n",
       "      <td>med</td>\n",
       "      <td>low</td>\n",
       "      <td>unacc</td>\n",
       "    </tr>\n",
       "    <tr>\n",
       "      <th>4</th>\n",
       "      <td>vhigh</td>\n",
       "      <td>vhigh</td>\n",
       "      <td>2</td>\n",
       "      <td>2</td>\n",
       "      <td>med</td>\n",
       "      <td>med</td>\n",
       "      <td>unacc</td>\n",
       "    </tr>\n",
       "  </tbody>\n",
       "</table>\n",
       "</div>"
      ],
      "text/plain": [
       "  buying  maint doors persons lug_boot safety  class\n",
       "0  vhigh  vhigh     2       2    small    low  unacc\n",
       "1  vhigh  vhigh     2       2    small    med  unacc\n",
       "2  vhigh  vhigh     2       2    small   high  unacc\n",
       "3  vhigh  vhigh     2       2      med    low  unacc\n",
       "4  vhigh  vhigh     2       2      med    med  unacc"
      ]
     },
     "execution_count": 4,
     "metadata": {},
     "output_type": "execute_result"
    }
   ],
   "source": [
    "data = pd.read_csv(\"car.data\")\n",
    "data.head()"
   ]
  },
  {
   "cell_type": "code",
   "execution_count": 6,
   "metadata": {},
   "outputs": [],
   "source": [
    "labelEncoder = preprocessing.LabelEncoder()"
   ]
  },
  {
   "cell_type": "code",
   "execution_count": 10,
   "metadata": {},
   "outputs": [],
   "source": [
    "#convert non no data to nos [ basically mapping values to some nos ]\n",
    "buying = labelEncoder.fit_transform(list(data[\"buying\"]))\n",
    "maint= labelEncoder.fit_transform(list(data[\"maint\"]))\n",
    "doors = labelEncoder.fit_transform(list(data[\"doors\"]))\n",
    "lug_boot = labelEncoder.fit_transform(list(data[\"lug_boot\"]))\n",
    "saftey = labelEncoder.fit_transform(list(data[\"safety\"]))\n",
    "xclass = labelEncoder.fit_transform(list(data[\"class\"]))"
   ]
  },
  {
   "cell_type": "code",
   "execution_count": 12,
   "metadata": {},
   "outputs": [],
   "source": [
    "#creating datasets i.e features and prediction\n",
    "x = list(zip(buying,maint,doors,lug_boot,saftey))\n",
    "y = list(xclass)"
   ]
  },
  {
   "cell_type": "code",
   "execution_count": 91,
   "metadata": {},
   "outputs": [],
   "source": [
    "#create training and testing data set\n",
    "x_train, x_test, y_train, y_test = sklearn.model_selection.train_test_split(x,y, test_size=0.1)"
   ]
  },
  {
   "cell_type": "code",
   "execution_count": 105,
   "metadata": {},
   "outputs": [
    {
     "name": "stdout",
     "output_type": "stream",
     "text": [
      "0.5\n",
      "0.8269230769230769\n"
     ]
    }
   ],
   "source": [
    "#create the model\n",
    "import pickle\n",
    "baseAcc = 0\n",
    "k = 0\n",
    "for i in range(1,19):\n",
    "    #create training and testing data set\n",
    "    x_train, x_test, y_train, y_test = sklearn.model_selection.train_test_split(x,y, test_size=0.03)\n",
    "    model = KNeighborsClassifier(n_neighbors = i)\n",
    "    model.fit(x_train,y_train)\n",
    "    acc = model.score(x_test,y_test)\n",
    "    if acc > baseAcc:\n",
    "        print(acc)\n",
    "        with open(\"carmodel.pickle\",\"wb\") as f:\n",
    "            pickle.dump(model, f)\n",
    "        baseAcc = acc\n",
    "        k=i\n",
    "        \n",
    "    "
   ]
  },
  {
   "cell_type": "code",
   "execution_count": 106,
   "metadata": {},
   "outputs": [],
   "source": [
    "pickled_model =open(\"carmodel.pickle\",\"rb\")\n",
    "model = pickle.load(pickled_model)\n",
    "pcls = model.predict(x_test)\n"
   ]
  },
  {
   "cell_type": "code",
   "execution_count": 107,
   "metadata": {},
   "outputs": [],
   "source": [
    "name =[\"unacc\", \"acc\", \"good\", \"vgood\"]"
   ]
  },
  {
   "cell_type": "code",
   "execution_count": 108,
   "metadata": {},
   "outputs": [
    {
     "name": "stdout",
     "output_type": "stream",
     "text": [
      "predicted:  good Data:  (1, 0, 1, 2, 1) Actual:  good\n",
      "predicted:  unacc Data:  (1, 0, 2, 1, 2) Actual:  good\n",
      "predicted:  good Data:  (3, 0, 2, 1, 1) Actual:  good\n",
      "predicted:  good Data:  (0, 2, 3, 2, 1) Actual:  good\n",
      "predicted:  good Data:  (2, 2, 1, 0, 0) Actual:  vgood\n",
      "predicted:  unacc Data:  (2, 3, 3, 1, 0) Actual:  unacc\n",
      "predicted:  vgood Data:  (1, 0, 2, 0, 0) Actual:  good\n",
      "predicted:  unacc Data:  (2, 2, 0, 2, 2) Actual:  good\n",
      "predicted:  unacc Data:  (2, 3, 3, 1, 2) Actual:  unacc\n",
      "predicted:  acc Data:  (2, 1, 3, 1, 2) Actual:  acc\n",
      "predicted:  unacc Data:  (1, 3, 2, 1, 2) Actual:  unacc\n",
      "predicted:  good Data:  (3, 0, 0, 1, 2) Actual:  good\n",
      "predicted:  good Data:  (0, 1, 0, 2, 1) Actual:  good\n",
      "predicted:  unacc Data:  (0, 1, 3, 2, 0) Actual:  unacc\n",
      "predicted:  unacc Data:  (2, 2, 1, 1, 0) Actual:  unacc\n",
      "predicted:  good Data:  (2, 3, 2, 2, 1) Actual:  good\n",
      "predicted:  good Data:  (1, 0, 2, 1, 1) Actual:  good\n",
      "predicted:  good Data:  (2, 2, 2, 2, 1) Actual:  good\n",
      "predicted:  good Data:  (2, 2, 1, 2, 1) Actual:  good\n",
      "predicted:  unacc Data:  (0, 0, 2, 1, 0) Actual:  unacc\n",
      "predicted:  good Data:  (0, 3, 0, 2, 0) Actual:  good\n",
      "predicted:  good Data:  (2, 0, 0, 2, 1) Actual:  good\n",
      "predicted:  good Data:  (0, 3, 1, 0, 0) Actual:  good\n",
      "predicted:  acc Data:  (2, 1, 1, 1, 0) Actual:  vgood\n",
      "predicted:  good Data:  (0, 2, 3, 1, 1) Actual:  good\n",
      "predicted:  good Data:  (3, 1, 1, 2, 2) Actual:  good\n",
      "predicted:  good Data:  (2, 1, 1, 2, 1) Actual:  good\n",
      "predicted:  good Data:  (3, 2, 0, 2, 1) Actual:  good\n",
      "predicted:  acc Data:  (1, 2, 3, 0, 2) Actual:  acc\n",
      "predicted:  unacc Data:  (0, 0, 2, 1, 2) Actual:  good\n",
      "predicted:  unacc Data:  (3, 1, 0, 0, 2) Actual:  unacc\n",
      "predicted:  unacc Data:  (1, 0, 2, 1, 2) Actual:  unacc\n",
      "predicted:  good Data:  (1, 0, 1, 0, 0) Actual:  vgood\n",
      "predicted:  acc Data:  (1, 1, 0, 0, 2) Actual:  acc\n",
      "predicted:  good Data:  (3, 3, 1, 1, 1) Actual:  good\n",
      "predicted:  good Data:  (1, 3, 2, 2, 2) Actual:  good\n",
      "predicted:  acc Data:  (1, 2, 1, 1, 0) Actual:  good\n",
      "predicted:  good Data:  (2, 0, 0, 1, 1) Actual:  good\n",
      "predicted:  good Data:  (1, 0, 3, 0, 1) Actual:  good\n",
      "predicted:  acc Data:  (1, 1, 1, 2, 0) Actual:  acc\n",
      "predicted:  good Data:  (0, 2, 1, 1, 1) Actual:  good\n",
      "predicted:  acc Data:  (1, 2, 0, 0, 2) Actual:  good\n",
      "predicted:  good Data:  (3, 3, 3, 0, 1) Actual:  good\n",
      "predicted:  good Data:  (3, 1, 3, 0, 1) Actual:  good\n",
      "predicted:  good Data:  (1, 0, 0, 1, 1) Actual:  good\n",
      "predicted:  unacc Data:  (1, 0, 0, 2, 2) Actual:  good\n",
      "predicted:  unacc Data:  (0, 0, 3, 0, 2) Actual:  unacc\n",
      "predicted:  unacc Data:  (0, 1, 3, 0, 2) Actual:  good\n",
      "predicted:  acc Data:  (2, 1, 3, 0, 2) Actual:  acc\n",
      "predicted:  acc Data:  (1, 1, 0, 1, 0) Actual:  acc\n",
      "predicted:  good Data:  (0, 3, 2, 2, 1) Actual:  good\n",
      "predicted:  unacc Data:  (1, 0, 1, 1, 2) Actual:  unacc\n"
     ]
    }
   ],
   "source": [
    "for i in range(len(pcls)):\n",
    "    print(\"predicted: \",name[pcls[i]], \"Data: \",x_test[i], \"Actual: \", name[y_test[i]] )\n",
    "#     n = model.kneighbors([x_test[i]],k,True)\n",
    "#     print(\"N: \",n)"
   ]
  },
  {
   "cell_type": "code",
   "execution_count": null,
   "metadata": {},
   "outputs": [],
   "source": []
  }
 ],
 "metadata": {
  "kernelspec": {
   "display_name": "Python 3",
   "language": "python",
   "name": "python3"
  },
  "language_info": {
   "codemirror_mode": {
    "name": "ipython",
    "version": 3
   },
   "file_extension": ".py",
   "mimetype": "text/x-python",
   "name": "python",
   "nbconvert_exporter": "python",
   "pygments_lexer": "ipython3",
   "version": "3.8.2"
  }
 },
 "nbformat": 4,
 "nbformat_minor": 4
}
